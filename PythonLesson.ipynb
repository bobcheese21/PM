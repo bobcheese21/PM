{
 "cells": [
  {
   "cell_type": "markdown",
   "metadata": {},
   "source": [
    "# Primitive Types!\n",
    "### There are 4 types of primitive types:\n",
    "    - Strings (\"Im a string!\")\n",
    "    - Integers (123)\n",
    "    - Floats (123.45)\n",
    "    - Booleans (True, False)\n",
    "### Don't worry too much about these, you'll get used to them over time :)\n",
    "---\n",
    "**Strings are one of four *Primitive Types* in Python (and in most languages!):**\n",
    "In Python, strings are represented between quotes (either single ' or double \"), for example:\n",
    ">`\n",
    "\"I am a string!\" \n",
    "'I am also a string!'\n",
    "`\n",
    "\n",
    "In Jupyter Notebooks, strings look red.\n",
    "\n",
    "***Integers* are also a primitive type:**\n",
    "One confusing thing to note is that numbers can be strings if theyre in quotes, but they can be integers (or floats) if they're not in quotes! For example:\n",
    ">`\n",
    "\"123\" #String\n",
    "123 #Integer\n",
    "`\n",
    "\n",
    "In Jupyter Notebooks, integers look green.\n",
    "\n",
    "***Floats* are also a primitive type:**\n",
    "Floats are like integers but they have a decimal point.\n",
    ">`\n",
    "12.09 #Float\n",
    ".00001 #Float\n",
    "`\n",
    ">\n",
    "\n",
    "In Jupyter Notebooks, floats look green.\n",
    "\n",
    "\n",
    "***Booleans* are the final primitive type:**\n",
    "Booleans can either be True or False (no quotes needed!) and are really useful!\n",
    ">`\n",
    "True #Boolean\n",
    "\"True\" #String\n",
    "False #Boolean\n",
    "'False' #String\n",
    "`\n",
    "\n",
    "In Jupyter Notebooks, booleans look green and bold.\n",
    "\n",
    "## Important:\n",
    "**You can always find out the *type* of something by using the type() and print() functions:** \n",
    ">`print(type(\"A string\"))\n",
    " <class 'str'>\n",
    "print(type(123))\n",
    " <class 'int'>\n",
    "`\n",
    "\n",
    "**These types can be added and subtracted!**\n",
    ">`\n",
    "print(1 + 1)\n",
    " 2\n",
    "print(\"Hello\" + \" + \"Everyone!\")\n",
    " HelloEveryone!\n",
    "print(True + False) #We don't use this one very much :)\n",
    " 1\n",
    "`\n",
    "\n",
    "**Commenting is something we do to help humans read code, but which doesn't actually run:**\n",
    "\n",
    "We add a comment using this symbol: #\n",
    "\n",
    ">`\n",
    "#this line won't be run by python, its a comment.\n",
    "this will be run by python, and it will cause an error.\n",
    "`\n"
   ]
  },
  {
   "cell_type": "code",
   "execution_count": 18,
   "metadata": {},
   "outputs": [
    {
     "name": "stdout",
     "output_type": "stream",
     "text": [
      "HelloEveryone!\n"
     ]
    }
   ],
   "source": [
    "print(\"Hello\" + \"Everyone!\")\n"
   ]
  },
  {
   "cell_type": "code",
   "execution_count": 9,
   "metadata": {},
   "outputs": [
    {
     "name": "stdout",
     "output_type": "stream",
     "text": [
      "<class 'int'>\n"
     ]
    }
   ],
   "source": [
    "#What type do you think will print when we run this cell?\n",
    "mystery1 = \"Hello!\"\n",
    "mystery2 = 123\n",
    "mystery3 = True\n",
    "print(type(mystery2))\n"
   ]
  },
  {
   "cell_type": "markdown",
   "metadata": {},
   "source": [
    "# Functions and Variables!\n",
    "### If you're confused about what's going on in the cell above, don't worry! \n",
    ">`\n",
    "mystery1 = \"Hello!\"\n",
    "mystery2 = 123\n",
    "mystery3 = True\n",
    "`\n",
    "\n",
    "## Variables\n",
    "We can *declare* a variable (lets call it mystery1) usint the = sign. \n",
    "When we *declare* a variable, we set its value. We can *re-declare* a variable, and it's value will be overwritten!\n",
    "\n",
    "## Functions\n",
    "Functions are blocks of code that *only run when they are called.*\n",
    "Python comes full of functions that you can use, like *print()* and *type()* just to name a few.\n",
    "You can also *write your own functions!* \n"
   ]
  },
  {
   "cell_type": "code",
   "execution_count": 11,
   "metadata": {},
   "outputs": [
    {
     "name": "stdout",
     "output_type": "stream",
     "text": [
      "Hello!\n",
      "Hello!\n"
     ]
    }
   ],
   "source": [
    "#What value do you think will be printed?\n",
    "mystery1 = \"Hello!\"\n",
    "mystery2 = 123\n",
    "mystery2 = mystery1\n",
    "print(mystery2)\n",
    "print(mystery1)"
   ]
  },
  {
   "cell_type": "code",
   "execution_count": null,
   "metadata": {},
   "outputs": [],
   "source": [
    "# Printing strings!\n",
    "yourName = \"Robi\" #put your name between the quotes and watch python print it!\n",
    "print(type(yourName))\n",
    "print(yourName)\n",
    "# You can add characters together"
   ]
  },
  {
   "cell_type": "code",
   "execution_count": 2,
   "metadata": {},
   "outputs": [
    {
     "name": "stdout",
     "output_type": "stream",
     "text": [
      "['your name is: ', 'Robi', 'Pretty ', 'cool ', 'right?']\n"
     ]
    }
   ],
   "source": [
    "# Examining lists!\n",
    "aList = [\"your name is: \", yourName, \"Pretty \", \"cool \", \"right?\"]\n",
    "print(aList)\n",
    "\n",
    "# We can add lists together"
   ]
  },
  {
   "cell_type": "code",
   "execution_count": null,
   "metadata": {},
   "outputs": [],
   "source": [
    "# Loops!\n",
    "# Loops repeat for a fixed amount of time\n",
    "#  or until some condition is met, depending on the type of loop\n",
    "aNewList = "
   ]
  }
 ],
 "metadata": {
  "kernelspec": {
   "display_name": "Python 3",
   "language": "python",
   "name": "python3"
  },
  "language_info": {
   "codemirror_mode": {
    "name": "ipython",
    "version": 3
   },
   "file_extension": ".py",
   "mimetype": "text/x-python",
   "name": "python",
   "nbconvert_exporter": "python",
   "pygments_lexer": "ipython3",
   "version": "3.6.1"
  }
 },
 "nbformat": 4,
 "nbformat_minor": 4
}
