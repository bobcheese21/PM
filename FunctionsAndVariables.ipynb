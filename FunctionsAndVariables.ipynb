{
 "cells": [
  {
   "cell_type": "markdown",
   "metadata": {},
   "source": [
    "# Functions and Variables!\n",
    "### This is where stuff gets exciting! \n",
    "\n"
   ]
  },
  {
   "cell_type": "code",
   "execution_count": null,
   "metadata": {},
   "outputs": [],
   "source": [
    "something = \"IM A VALUE!\"\n",
    "somethingElse = \"i aM a VaLUe ToO!\""
   ]
  },
  {
   "cell_type": "markdown",
   "metadata": {},
   "source": [
    "**What's going on up here?**\n",
    "These are variables. If you feel confident about what variables are and how to use them, feel free to move on to **functions** below.\n",
    "\n",
    "> **Note:** When you run the cell above, there won't be any output\n",
    "\n",
    "## Variables\n",
    "We can *declare* a variable (lets call it **something**) using the ***=*** sign. \n",
    ">`\n",
    "something = \"IM A VALUE!\"\n",
    "`\n",
    "\n",
    "This let's us ***save*** a value. This is really useful when we know a value is important, *but we don't yet know exactly what the value is*. For example:\n",
    ">`\n",
    "result = 1231 + 2423 + anotherVariable\n",
    "`\n",
    "\n",
    "When we *declare* a variable, we set its value. We can *re-declare* a variable, and it's value will be overwritten!\n",
    "\n",
    ">**Be careful though**, when you overwrite a variable, its previous value will no longer be accessible (unless you saved it, using another variable!)\n",
    "\n",
    "---\n",
    "## Quick check in!\n",
    "**Try and predict what will be printed in cell below!**"
   ]
  },
  {
   "cell_type": "code",
   "execution_count": null,
   "metadata": {},
   "outputs": [],
   "source": [
    "#What value do you think will be printed?\n",
    "mystery1 = \"Hello!\"\n",
    "mystery2 = 123\n",
    "mystery2 = mystery1\n",
    "print(mystery2)\n",
    "print(mystery1)"
   ]
  },
  {
   "cell_type": "markdown",
   "metadata": {},
   "source": [
    "### A helpful way to predict what is being printed is to pretend you're the computer by reading the code left to right, top to bottom.\n",
    "\n",
    "- Starting at the top (line 1), and at the left (the first character), we see a ***#***, this tells us that the rest of the line will be ignored by the computer (it is a comment)\n",
    "\n",
    "- On line 2, we see mystery1 being set equal (=) to \"Hello!\", this should tell us that whenever we see mystery1 from now on, we can think about it as \"Hello!\"\n",
    "\n",
    "- On line 3, we see that mystery2 now has the value of 123.\n",
    "\n",
    "- On line 4, we're setting mystery2 equal to mystery1. That means that mystery2 now has the value of mystery1 (which was \"Hello!\").\n",
    "\n",
    "### Try to predict the output of the next cell!"
   ]
  },
  {
   "cell_type": "code",
   "execution_count": null,
   "metadata": {},
   "outputs": [],
   "source": [
    "something = 1\n",
    "somethingElse = something + something + 12\n",
    "anotherThing = somethingElse - something\n",
    "something = something - anotherThing\n",
    "print(something)"
   ]
  },
  {
   "cell_type": "markdown",
   "metadata": {},
   "source": [
    "### Spoilers!\n",
    ">`\n",
    "1| something = 1 #something: 1\n",
    "2| somethingElse = something + something + 12 #somethingElse: 1 + 1 + 12 = 14\n",
    "3| anotherThing = somethingElse - something #anotherThing: 14 - 1 = 13\n",
    "4| something = something - anotherThing #something: 1 - 13 = 12\n",
    "5| print(something)\n",
    "`\n",
    "\n",
    "**Notice** that on line 4, we use declare *and* use the 'something' variable on the same line. You can read what is happening as, \"The new value of the variable 'something' is the current value of the variable 'something' minus the current value of the variable 'anotherThing'"
   ]
  },
  {
   "cell_type": "markdown",
   "metadata": {},
   "source": [
    "---\n",
    "\n",
    "# Functions!\n",
    "### Functions are bits of saved code that only get run when you call the function. \n",
    "**print()** and **type()** are examples of functions that we've been using. \n",
    "\n",
    "We run functions by writing the name of the function and adding a \"()\" to the end. Check out what happens in the following three cells.\n",
    "\n"
   ]
  },
  {
   "cell_type": "code",
   "execution_count": 11,
   "metadata": {},
   "outputs": [
    {
     "data": {
      "text/plain": [
       "<function print>"
      ]
     },
     "execution_count": 11,
     "metadata": {},
     "output_type": "execute_result"
    }
   ],
   "source": [
    "print"
   ]
  },
  {
   "cell_type": "code",
   "execution_count": 13,
   "metadata": {},
   "outputs": [
    {
     "name": "stdout",
     "output_type": "stream",
     "text": [
      "\n"
     ]
    }
   ],
   "source": [
    "print()"
   ]
  },
  {
   "cell_type": "markdown",
   "metadata": {},
   "source": [
    "When we use functions, we can give them **arguments** by putting them in the parentheses.\n",
    "For example, print accepts zero (as in the cell above) or many arguments (as in the cell below)."
   ]
  },
  {
   "cell_type": "code",
   "execution_count": 16,
   "metadata": {},
   "outputs": [
    {
     "name": "stdout",
     "output_type": "stream",
     "text": [
      "Oh hi! I didn't see you there, Purple Mai`a student !\n"
     ]
    }
   ],
   "source": [
    "name = \"Purple Mai`a student\"\n",
    "print(\"Oh hi!\", \"I didn't see you there,\", name, \"!\")"
   ]
  },
  {
   "cell_type": "markdown",
   "metadata": {},
   "source": [
    ">**Notice** that the different arguments are separated by commas?"
   ]
  },
  {
   "cell_type": "code",
   "execution_count": 18,
   "metadata": {},
   "outputs": [
    {
     "ename": "TypeError",
     "evalue": "sum expected at least 1 arguments, got 0",
     "output_type": "error",
     "traceback": [
      "\u001b[0;31m---------------------------------------------------------------------------\u001b[0m",
      "\u001b[0;31mTypeError\u001b[0m                                 Traceback (most recent call last)",
      "\u001b[0;32m<ipython-input-18-217cace8f485>\u001b[0m in \u001b[0;36m<module>\u001b[0;34m\u001b[0m\n\u001b[0;32m----> 1\u001b[0;31m \u001b[0msum\u001b[0m\u001b[0;34m(\u001b[0m\u001b[0;34m)\u001b[0m\u001b[0;34m\u001b[0m\u001b[0m\n\u001b[0m",
      "\u001b[0;31mTypeError\u001b[0m: sum expected at least 1 arguments, got 0"
     ]
    }
   ],
   "source": [
    "sum()"
   ]
  },
  {
   "cell_type": "markdown",
   "metadata": {},
   "source": [
    "If you tried running the cell above, you should have gotten an error.\n",
    "This is becuase sum expects at least 1 argument, and we didn't give it any.\n",
    "Try writing in the next cell to find the sum of all the digits in your birthday.\n",
    ">**Note**, sum accepts integers and float types!\n"
   ]
  },
  {
   "cell_type": "code",
   "execution_count": null,
   "metadata": {},
   "outputs": [],
   "source": [
    "# Loops!\n",
    "# Loops repeat for a fixed amount of time\n",
    "#  or until some condition is met, depending on the type of loop\n",
    "aNewList = "
   ]
  },
  {
   "cell_type": "code",
   "execution_count": null,
   "metadata": {},
   "outputs": [],
   "source": []
  }
 ],
 "metadata": {
  "kernelspec": {
   "display_name": "Python 3",
   "language": "python",
   "name": "python3"
  },
  "language_info": {
   "codemirror_mode": {
    "name": "ipython",
    "version": 3
   },
   "file_extension": ".py",
   "mimetype": "text/x-python",
   "name": "python",
   "nbconvert_exporter": "python",
   "pygments_lexer": "ipython3",
   "version": "3.6.1"
  }
 },
 "nbformat": 4,
 "nbformat_minor": 4
}
