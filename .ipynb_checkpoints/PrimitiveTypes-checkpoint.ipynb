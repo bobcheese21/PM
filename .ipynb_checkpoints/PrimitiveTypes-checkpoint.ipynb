{
 "cells": [
  {
   "cell_type": "markdown",
   "metadata": {},
   "source": [
    "# Primitive Types!\n",
    "### There are 4 types of primitives:\n",
    "    - Strings (\"Im a string!\")\n",
    "    - Integers (123)\n",
    "    - Floats (123.45)\n",
    "    - Booleans (True, False)\n",
    "### Don't worry too much about these, you'll get used to them over time :)\n",
    "---\n",
    "***Strings* are one of four *Primitive Types* in Python (and in most languages!):**\n",
    "In Python, strings are represented between quotes (either single ' or double \"), for example:\n"
   ]
  },
  {
   "cell_type": "code",
   "execution_count": 5,
   "metadata": {},
   "outputs": [
    {
     "data": {
      "text/plain": [
       "'I am a string!'"
      ]
     },
     "execution_count": 5,
     "metadata": {},
     "output_type": "execute_result"
    }
   ],
   "source": [
    "\"I am a string!\" "
   ]
  },
  {
   "cell_type": "code",
   "execution_count": 3,
   "metadata": {},
   "outputs": [
    {
     "data": {
      "text/plain": [
       "'I am also a string!'"
      ]
     },
     "execution_count": 3,
     "metadata": {},
     "output_type": "execute_result"
    }
   ],
   "source": [
    "'I am also a string!'"
   ]
  },
  {
   "cell_type": "markdown",
   "metadata": {},
   "source": [
    "In Jupyter Notebooks, strings look red.\n",
    "\n",
    "---\n",
    "***Integers* are also a primitive type:**\n",
    "One confusing thing to note is that numbers can be strings if theyre in quotes, but they can be integers (or floats) if they're not in quotes! For example:\n"
   ]
  },
  {
   "cell_type": "code",
   "execution_count": 6,
   "metadata": {},
   "outputs": [
    {
     "data": {
      "text/plain": [
       "'123'"
      ]
     },
     "execution_count": 6,
     "metadata": {},
     "output_type": "execute_result"
    }
   ],
   "source": [
    "\"123\" #String"
   ]
  },
  {
   "cell_type": "code",
   "execution_count": 7,
   "metadata": {},
   "outputs": [
    {
     "data": {
      "text/plain": [
       "123"
      ]
     },
     "execution_count": 7,
     "metadata": {},
     "output_type": "execute_result"
    }
   ],
   "source": [
    "123 #Integer"
   ]
  },
  {
   "cell_type": "markdown",
   "metadata": {},
   "source": [
    "In Jupyter Notebooks, integers look green.\n",
    "\n",
    "> **Note** Commenting is something we do to help humans read code, but which doesn't actually run:\n",
    ">\n",
    ">We add a comment using this symbol: **#**\n",
    ">\n",
    ">See how in the previous two Jupyter cells anything after the **#** symbol doesn't show?"
   ]
  },
  {
   "cell_type": "markdown",
   "metadata": {},
   "source": [
    "---\n",
    "***Floats* are also a primitive type:**\n",
    "Floats are like integers but they have a decimal point.\n"
   ]
  },
  {
   "cell_type": "code",
   "execution_count": 12,
   "metadata": {},
   "outputs": [
    {
     "data": {
      "text/plain": [
       "12.09"
      ]
     },
     "execution_count": 12,
     "metadata": {},
     "output_type": "execute_result"
    }
   ],
   "source": [
    "12.09 #Float"
   ]
  },
  {
   "cell_type": "code",
   "execution_count": 13,
   "metadata": {},
   "outputs": [
    {
     "data": {
      "text/plain": [
       "1e-05"
      ]
     },
     "execution_count": 13,
     "metadata": {},
     "output_type": "execute_result"
    }
   ],
   "source": [
    ".00001 #Float"
   ]
  },
  {
   "cell_type": "code",
   "execution_count": 11,
   "metadata": {},
   "outputs": [
    {
     "data": {
      "text/plain": [
       "float"
      ]
     },
     "execution_count": 11,
     "metadata": {},
     "output_type": "execute_result"
    }
   ],
   "source": [
    "type(.0001)"
   ]
  },
  {
   "cell_type": "markdown",
   "metadata": {},
   "source": [
    "In Jupyter Notebooks, floats look green.\n",
    "\n",
    "> **Note:** We can pass a value into ***type()*** by writing it into the parentheses, as in above.\n",
    ">\n",
    "> This lets us see which type of value we are dealing with in case we get confused!\n",
    "\n",
    "---\n",
    "\n",
    "***Booleans* are the final primitive type:**\n",
    "Booleans can either be True or False (no quotes needed!) and are really useful!\n"
   ]
  },
  {
   "cell_type": "code",
   "execution_count": 1,
   "metadata": {},
   "outputs": [
    {
     "data": {
      "text/plain": [
       "True"
      ]
     },
     "execution_count": 1,
     "metadata": {},
     "output_type": "execute_result"
    }
   ],
   "source": [
    "True #Boolean"
   ]
  },
  {
   "cell_type": "code",
   "execution_count": 2,
   "metadata": {},
   "outputs": [
    {
     "data": {
      "text/plain": [
       "False"
      ]
     },
     "execution_count": 2,
     "metadata": {},
     "output_type": "execute_result"
    }
   ],
   "source": [
    "False #Boolean"
   ]
  },
  {
   "cell_type": "code",
   "execution_count": 5,
   "metadata": {},
   "outputs": [
    {
     "name": "stdout",
     "output_type": "stream",
     "text": [
      "<class 'str'>\n"
     ]
    },
    {
     "data": {
      "text/plain": [
       "bool"
      ]
     },
     "execution_count": 5,
     "metadata": {},
     "output_type": "execute_result"
    }
   ],
   "source": [
    "print(type(\"True\"))\n",
    "type(True)"
   ]
  },
  {
   "cell_type": "markdown",
   "metadata": {},
   "source": [
    "In Jupyter Notebooks, booleans look green and bold.\n",
    "\n",
    "---\n",
    "\n",
    "## Important Takeaways:\n",
    "**You can always find out the *type* of something by using the type() and print() functions:** \n",
    ">`print(type(\"A string\"))\n",
    " <class 'str'>\n",
    "print(type(123))\n",
    " <class 'int'>\n",
    "`\n",
    "\n",
    "**Primitive types can be added and subtracted!**\n",
    ">`\n",
    "print(1 + 1)\n",
    " 2\n",
    "print(\"Hello\" + \" + \"Everyone!\")\n",
    " HelloEveryone!\n",
    "print(True + False) #We don't use this one very much, but you can see True = 1 and False = 0\n",
    " 1\n",
    "`\n",
    "\n",
    "**To comment, use # then write your comment after.**\n",
    "\n",
    ">`#this line won't be run by python, its a comment.\n",
    "this will be run by python, and it will cause an error.\n",
    "`\n",
    "\n",
    "---\n",
    "\n",
    "### Quick Check in!\n",
    "Before running each cell below, predict what will be printed!"
   ]
  },
  {
   "cell_type": "code",
   "execution_count": 1,
   "metadata": {},
   "outputs": [
    {
     "name": "stdout",
     "output_type": "stream",
     "text": [
      "<class 'str'>\n",
      "<class 'str'>\n",
      "<class 'int'>\n",
      "4\n",
      "True\n",
      "<class 'bool'>\n"
     ]
    }
   ],
   "source": [
    "print(type(\"123\"))\n",
    "print(type(\"True\"))\n",
    "print(type(123))\n",
    "print(1 + 3)\n",
    "print(True)\n",
    "print(type(False))"
   ]
  },
  {
   "cell_type": "markdown",
   "metadata": {},
   "source": [
    "---\n",
    "\n",
    "## Awesome job! \n",
    "### Now you can move on to Lesson 2: Variables and Functions"
   ]
  },
  {
   "cell_type": "code",
   "execution_count": null,
   "metadata": {},
   "outputs": [],
   "source": []
  }
 ],
 "metadata": {
  "kernelspec": {
   "display_name": "Python 3",
   "language": "python",
   "name": "python3"
  },
  "language_info": {
   "codemirror_mode": {
    "name": "ipython",
    "version": 3
   },
   "file_extension": ".py",
   "mimetype": "text/x-python",
   "name": "python",
   "nbconvert_exporter": "python",
   "pygments_lexer": "ipython3",
   "version": "3.6.1"
  }
 },
 "nbformat": 4,
 "nbformat_minor": 4
}
